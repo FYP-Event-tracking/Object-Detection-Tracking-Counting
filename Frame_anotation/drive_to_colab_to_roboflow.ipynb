{
  "cells": [
    {
      "cell_type": "code",
      "execution_count": null,
      "metadata": {
        "colab": {
          "base_uri": "https://localhost:8080/",
          "height": 1000
        },
        "id": "6i-4T8UmI3B_",
        "outputId": "b2a39c7b-a0f4-4a82-b229-47b5f09f34eb"
      },
      "outputs": [],
      "source": [
        "!pip install roboflow"
      ]
    },
    {
      "cell_type": "code",
      "execution_count": null,
      "metadata": {
        "id": "sJmqtLChJtsN"
      },
      "outputs": [],
      "source": [
        "from roboflow import Roboflow\n",
        "\n",
        "rf = Roboflow(api_key=\"#\")"
      ]
    },
    {
      "cell_type": "code",
      "execution_count": null,
      "metadata": {
        "colab": {
          "base_uri": "https://localhost:8080/"
        },
        "id": "yz6mfGrXJwYC",
        "outputId": "c0facb07-008b-43fc-ec59-ff9b2d214213"
      },
      "outputs": [],
      "source": [
        "print(rf.workspace())"
      ]
    },
    {
      "cell_type": "code",
      "execution_count": null,
      "metadata": {
        "colab": {
          "base_uri": "https://localhost:8080/"
        },
        "id": "tvMYmc_7LuQT",
        "outputId": "4b475e94-1d89-4a2d-832b-0fc890c848c3"
      },
      "outputs": [],
      "source": [
        "print(rf.workspace().project_list)"
      ]
    },
    {
      "cell_type": "code",
      "execution_count": null,
      "metadata": {
        "colab": {
          "base_uri": "https://localhost:8080/"
        },
        "id": "g904K0V1K44Z",
        "outputId": "ace408cb-bb8c-48aa-8881-50bfd0f2d503"
      },
      "outputs": [],
      "source": [
        "workspaceId = 'fyp-fqnbg'\n",
        "projectId = 'full_detection-nwpsw'\n",
        "project = rf.workspace(workspaceId).project(projectId)"
      ]
    },
    {
      "cell_type": "code",
      "execution_count": null,
      "metadata": {
        "colab": {
          "base_uri": "https://localhost:8080/"
        },
        "id": "RgABkvIUMncu",
        "outputId": "39a530f7-2e1a-4da2-8a8c-2a74bc4fafd0"
      },
      "outputs": [],
      "source": [
        "from google.colab import drive\n",
        "drive.mount('/content/drive')"
      ]
    },
    {
      "cell_type": "code",
      "execution_count": null,
      "metadata": {
        "id": "0aFkC3IpIW47"
      },
      "outputs": [],
      "source": [
        "import os\n",
        "from os import listdir\n",
        "\n",
        "folder_dir = \"/content/drive/MyDrive/Frames/video_4_full_box\"\n",
        "for images in os.listdir(folder_dir):\n",
        "    if (images.endswith(\".jpg\")):\n",
        "      project.upload(\n",
        "          image_path=\"/content/drive/MyDrive/Frames/video_4_full_box/\"+images,\n",
        "      )"
      ]
    }
  ],
  "metadata": {
    "colab": {
      "provenance": []
    },
    "kernelspec": {
      "display_name": "Python 3",
      "name": "python3"
    },
    "language_info": {
      "name": "python"
    }
  },
  "nbformat": 4,
  "nbformat_minor": 0
}

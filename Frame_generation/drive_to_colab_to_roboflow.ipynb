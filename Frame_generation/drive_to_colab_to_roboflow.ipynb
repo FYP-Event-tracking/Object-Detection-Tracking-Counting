{
  "cells": [
    {
      "cell_type": "code",
      "execution_count": 2,
      "metadata": {
        "colab": {
          "base_uri": "https://localhost:8080/",
          "height": 1000
        },
        "id": "6i-4T8UmI3B_",
        "outputId": "b2a39c7b-a0f4-4a82-b229-47b5f09f34eb"
      },
      "outputs": [
        {
          "name": "stdout",
          "output_type": "stream",
          "text": [
            "Collecting roboflow\n",
            "  Downloading roboflow-1.1.19-py3-none-any.whl (70 kB)\n",
            "\u001b[2K     \u001b[90m━━━━━━━━━━━━━━━━━━━━━━━━━━━━━━━━━━━━━━━━\u001b[0m \u001b[32m70.2/70.2 kB\u001b[0m \u001b[31m2.9 MB/s\u001b[0m eta \u001b[36m0:00:00\u001b[0m\n",
            "\u001b[?25hCollecting certifi==2023.7.22 (from roboflow)\n",
            "  Downloading certifi-2023.7.22-py3-none-any.whl (158 kB)\n",
            "\u001b[2K     \u001b[90m━━━━━━━━━━━━━━━━━━━━━━━━━━━━━━━━━━━━━━━━\u001b[0m \u001b[32m158.3/158.3 kB\u001b[0m \u001b[31m9.4 MB/s\u001b[0m eta \u001b[36m0:00:00\u001b[0m\n",
            "\u001b[?25hCollecting chardet==4.0.0 (from roboflow)\n",
            "  Downloading chardet-4.0.0-py2.py3-none-any.whl (178 kB)\n",
            "\u001b[2K     \u001b[90m━━━━━━━━━━━━━━━━━━━━━━━━━━━━━━━━━━━━━━━━\u001b[0m \u001b[32m178.7/178.7 kB\u001b[0m \u001b[31m10.7 MB/s\u001b[0m eta \u001b[36m0:00:00\u001b[0m\n",
            "\u001b[?25hCollecting cycler==0.10.0 (from roboflow)\n",
            "  Downloading cycler-0.10.0-py2.py3-none-any.whl (6.5 kB)\n",
            "Collecting idna==2.10 (from roboflow)\n",
            "  Downloading idna-2.10-py2.py3-none-any.whl (58 kB)\n",
            "\u001b[2K     \u001b[90m━━━━━━━━━━━━━━━━━━━━━━━━━━━━━━━━━━━━━━━━\u001b[0m \u001b[32m58.8/58.8 kB\u001b[0m \u001b[31m8.9 MB/s\u001b[0m eta \u001b[36m0:00:00\u001b[0m\n",
            "\u001b[?25hRequirement already satisfied: kiwisolver>=1.3.1 in /usr/local/lib/python3.10/dist-packages (from roboflow) (1.4.5)\n",
            "Requirement already satisfied: matplotlib in /usr/local/lib/python3.10/dist-packages (from roboflow) (3.7.1)\n",
            "Requirement already satisfied: numpy>=1.18.5 in /usr/local/lib/python3.10/dist-packages (from roboflow) (1.25.2)\n",
            "Collecting opencv-python-headless==4.8.0.74 (from roboflow)\n",
            "  Downloading opencv_python_headless-4.8.0.74-cp37-abi3-manylinux_2_17_x86_64.manylinux2014_x86_64.whl (49.1 MB)\n",
            "\u001b[2K     \u001b[90m━━━━━━━━━━━━━━━━━━━━━━━━━━━━━━━━━━━━━━━━\u001b[0m \u001b[32m49.1/49.1 MB\u001b[0m \u001b[31m17.3 MB/s\u001b[0m eta \u001b[36m0:00:00\u001b[0m\n",
            "\u001b[?25hRequirement already satisfied: Pillow>=7.1.2 in /usr/local/lib/python3.10/dist-packages (from roboflow) (9.4.0)\n",
            "Requirement already satisfied: python-dateutil in /usr/local/lib/python3.10/dist-packages (from roboflow) (2.8.2)\n",
            "Collecting python-dotenv (from roboflow)\n",
            "  Downloading python_dotenv-1.0.1-py3-none-any.whl (19 kB)\n",
            "Requirement already satisfied: requests in /usr/local/lib/python3.10/dist-packages (from roboflow) (2.31.0)\n",
            "Requirement already satisfied: six in /usr/local/lib/python3.10/dist-packages (from roboflow) (1.16.0)\n",
            "Collecting supervision (from roboflow)\n",
            "  Downloading supervision-0.18.0-py3-none-any.whl (86 kB)\n",
            "\u001b[2K     \u001b[90m━━━━━━━━━━━━━━━━━━━━━━━━━━━━━━━━━━━━━━━━\u001b[0m \u001b[32m86.7/86.7 kB\u001b[0m \u001b[31m12.1 MB/s\u001b[0m eta \u001b[36m0:00:00\u001b[0m\n",
            "\u001b[?25hRequirement already satisfied: urllib3>=1.26.6 in /usr/local/lib/python3.10/dist-packages (from roboflow) (2.0.7)\n",
            "Requirement already satisfied: tqdm>=4.41.0 in /usr/local/lib/python3.10/dist-packages (from roboflow) (4.66.1)\n",
            "Requirement already satisfied: PyYAML>=5.3.1 in /usr/local/lib/python3.10/dist-packages (from roboflow) (6.0.1)\n",
            "Collecting requests-toolbelt (from roboflow)\n",
            "  Downloading requests_toolbelt-1.0.0-py2.py3-none-any.whl (54 kB)\n",
            "\u001b[2K     \u001b[90m━━━━━━━━━━━━━━━━━━━━━━━━━━━━━━━━━━━━━━━━\u001b[0m \u001b[32m54.5/54.5 kB\u001b[0m \u001b[31m7.5 MB/s\u001b[0m eta \u001b[36m0:00:00\u001b[0m\n",
            "\u001b[?25hCollecting python-magic (from roboflow)\n",
            "  Downloading python_magic-0.4.27-py2.py3-none-any.whl (13 kB)\n",
            "Requirement already satisfied: contourpy>=1.0.1 in /usr/local/lib/python3.10/dist-packages (from matplotlib->roboflow) (1.2.0)\n",
            "Requirement already satisfied: fonttools>=4.22.0 in /usr/local/lib/python3.10/dist-packages (from matplotlib->roboflow) (4.48.1)\n",
            "Requirement already satisfied: packaging>=20.0 in /usr/local/lib/python3.10/dist-packages (from matplotlib->roboflow) (23.2)\n",
            "Requirement already satisfied: pyparsing>=2.3.1 in /usr/local/lib/python3.10/dist-packages (from matplotlib->roboflow) (3.1.1)\n",
            "Requirement already satisfied: charset-normalizer<4,>=2 in /usr/local/lib/python3.10/dist-packages (from requests->roboflow) (3.3.2)\n",
            "Requirement already satisfied: defusedxml<0.8.0,>=0.7.1 in /usr/local/lib/python3.10/dist-packages (from supervision->roboflow) (0.7.1)\n",
            "Requirement already satisfied: scipy<2.0.0,>=1.10.0 in /usr/local/lib/python3.10/dist-packages (from supervision->roboflow) (1.11.4)\n",
            "Installing collected packages: python-magic, python-dotenv, opencv-python-headless, idna, cycler, chardet, certifi, supervision, requests-toolbelt, roboflow\n",
            "  Attempting uninstall: opencv-python-headless\n",
            "    Found existing installation: opencv-python-headless 4.9.0.80\n",
            "    Uninstalling opencv-python-headless-4.9.0.80:\n",
            "      Successfully uninstalled opencv-python-headless-4.9.0.80\n",
            "  Attempting uninstall: idna\n",
            "    Found existing installation: idna 3.6\n",
            "    Uninstalling idna-3.6:\n",
            "      Successfully uninstalled idna-3.6\n",
            "  Attempting uninstall: cycler\n",
            "    Found existing installation: cycler 0.12.1\n",
            "    Uninstalling cycler-0.12.1:\n",
            "      Successfully uninstalled cycler-0.12.1\n",
            "  Attempting uninstall: chardet\n",
            "    Found existing installation: chardet 5.2.0\n",
            "    Uninstalling chardet-5.2.0:\n",
            "      Successfully uninstalled chardet-5.2.0\n",
            "  Attempting uninstall: certifi\n",
            "    Found existing installation: certifi 2024.2.2\n",
            "    Uninstalling certifi-2024.2.2:\n",
            "      Successfully uninstalled certifi-2024.2.2\n",
            "\u001b[31mERROR: pip's dependency resolver does not currently take into account all the packages that are installed. This behaviour is the source of the following dependency conflicts.\n",
            "lida 0.0.10 requires fastapi, which is not installed.\n",
            "lida 0.0.10 requires kaleido, which is not installed.\n",
            "lida 0.0.10 requires python-multipart, which is not installed.\n",
            "lida 0.0.10 requires uvicorn, which is not installed.\u001b[0m\u001b[31m\n",
            "\u001b[0mSuccessfully installed certifi-2023.7.22 chardet-4.0.0 cycler-0.10.0 idna-2.10 opencv-python-headless-4.8.0.74 python-dotenv-1.0.1 python-magic-0.4.27 requests-toolbelt-1.0.0 roboflow-1.1.19 supervision-0.18.0\n"
          ]
        },
        {
          "data": {
            "application/vnd.colab-display-data+json": {
              "pip_warning": {
                "packages": [
                  "certifi",
                  "cycler"
                ]
              }
            }
          },
          "metadata": {},
          "output_type": "display_data"
        }
      ],
      "source": [
        "!pip install roboflow"
      ]
    },
    {
      "cell_type": "code",
      "execution_count": 9,
      "metadata": {
        "id": "sJmqtLChJtsN"
      },
      "outputs": [],
      "source": [
        "from roboflow import Roboflow\n",
        "\n",
        "rf = Roboflow(api_key=\"#\")"
      ]
    },
    {
      "cell_type": "code",
      "execution_count": 17,
      "metadata": {
        "colab": {
          "base_uri": "https://localhost:8080/"
        },
        "id": "yz6mfGrXJwYC",
        "outputId": "c0facb07-008b-43fc-ec59-ff9b2d214213"
      },
      "outputs": [
        {
          "name": "stdout",
          "output_type": "stream",
          "text": [
            "\rloading Roboflow workspace...\n",
            "{\n",
            "  \"name\": \"FYP\",\n",
            "  \"url\": \"fyp-fqnbg\",\n",
            "  \"projects\": [\n",
            "    \"fyp-fqnbg/full_detection-nwpsw\",\n",
            "    \"fyp-fqnbg/human-pose-estimation-2mhhc\",\n",
            "    \"fyp-fqnbg/socket_detection\"\n",
            "  ]\n",
            "}\n"
          ]
        }
      ],
      "source": [
        "print(rf.workspace())"
      ]
    },
    {
      "cell_type": "code",
      "execution_count": 14,
      "metadata": {
        "colab": {
          "base_uri": "https://localhost:8080/"
        },
        "id": "tvMYmc_7LuQT",
        "outputId": "4b475e94-1d89-4a2d-832b-0fc890c848c3"
      },
      "outputs": [
        {
          "name": "stdout",
          "output_type": "stream",
          "text": [
            "\rloading Roboflow workspace...\n",
            "[{'id': 'fyp-fqnbg/full_detection-nwpsw', 'type': 'object-detection', 'name': 'Full_Detection', 'created': 1707921767.158, 'updated': 1707921767.158, 'images': 0, 'unannotated': 0, 'annotation': 'Socket', 'versions': 0, 'public': True, 'license': 'CC BY 4.0', 'splits': {'valid': 0, 'test': 0, 'export': 0, 'train': 0}, 'colors': {'small_package': '#00FFCE', 'socket': '#C7FC00', 'Main_box': '#8622FF', 'Box_with_socket': '#FE0056'}, 'classes': {'small_package': 0, 'socket': 0, 'Main_box': 0, 'Box_with_socket': 0}, 'icon': None, 'preprocessing': {'auto-orient': True, 'resize': {'format': 'Stretch to', 'width': 640, 'height': 640}}, 'augmentation': {}}, {'id': 'fyp-fqnbg/human-pose-estimation-2mhhc', 'type': 'keypoint-detection', 'name': 'Human pose estimation', 'created': 1707821095.829, 'updated': 1707821095.829, 'images': 0, 'unannotated': 0, 'annotation': 'Humans', 'versions': 0, 'public': True, 'license': 'CC BY 4.0', 'splits': {'valid': 0, 'test': 0, 'train': 0}, 'colors': {'Human': '#C7FC00'}, 'classes': {'Human': 0}, 'icon': None, 'preprocessing': {'auto-orient': True, 'resize': {'format': 'Stretch to', 'width': 640, 'height': 640}}, 'augmentation': {}}, {'id': 'fyp-fqnbg/socket_detection', 'type': 'object-detection', 'name': 'socket_detection', 'created': 1704542948.385, 'updated': 1704609971.636, 'images': 141, 'unannotated': 0, 'annotation': 'sockets', 'versions': 3, 'public': True, 'license': 'CC BY 4.0', 'splits': {'valid': 27, 'test': 13, 'export': 0, 'train': 101}, 'colors': {'main_box': '#05ff00', 'socket_in_box': '#8622FF', 'small_package': '#00d1ff', 'socket': '#8622FF', 'sockets': '#C7FC00', 'socket_with_box': '#FE0056'}, 'classes': {'small_package': 51, 'socket_with_box': 122, 'main_box': 281, 'socket': 588}, 'icon': {'original': 'https://source.roboflow.com/Q0a3mgPDc7drhH53FfOPTq2CLHT2/1bkjsDvNIN4py9IKuuDn/original.jpg', 'thumb': 'https://source.roboflow.com/Q0a3mgPDc7drhH53FfOPTq2CLHT2/1bkjsDvNIN4py9IKuuDn/thumb.jpg', 'annotation': 'https://source.roboflow.com/Q0a3mgPDc7drhH53FfOPTq2CLHT2/1bkjsDvNIN4py9IKuuDn/annotation-sockets.png'}, 'preprocessing': {'auto-orient': True, 'resize': {'format': 'Stretch to', 'width': 640, 'height': 640}}, 'augmentation': {'image': {'versions': 3}, 'ninety': {'clockwise': True, 'counter-clockwise': True, 'upside-down': False}, 'rotate': {'degrees': 15}}}]\n"
          ]
        }
      ],
      "source": [
        "print(rf.workspace().project_list)"
      ]
    },
    {
      "cell_type": "code",
      "execution_count": 18,
      "metadata": {
        "colab": {
          "base_uri": "https://localhost:8080/"
        },
        "id": "g904K0V1K44Z",
        "outputId": "ace408cb-bb8c-48aa-8881-50bfd0f2d503"
      },
      "outputs": [
        {
          "name": "stdout",
          "output_type": "stream",
          "text": [
            "loading Roboflow workspace...\n",
            "loading Roboflow project...\n"
          ]
        }
      ],
      "source": [
        "workspaceId = 'fyp-fqnbg'\n",
        "projectId = 'full_detection-nwpsw'\n",
        "project = rf.workspace(workspaceId).project(projectId)"
      ]
    },
    {
      "cell_type": "code",
      "execution_count": 19,
      "metadata": {
        "colab": {
          "base_uri": "https://localhost:8080/"
        },
        "id": "RgABkvIUMncu",
        "outputId": "39a530f7-2e1a-4da2-8a8c-2a74bc4fafd0"
      },
      "outputs": [
        {
          "name": "stdout",
          "output_type": "stream",
          "text": [
            "Mounted at /content/drive\n"
          ]
        }
      ],
      "source": [
        "from google.colab import drive\n",
        "drive.mount('/content/drive')"
      ]
    },
    {
      "cell_type": "code",
      "execution_count": 22,
      "metadata": {
        "id": "0aFkC3IpIW47"
      },
      "outputs": [],
      "source": [
        "import os\n",
        "from os import listdir\n",
        "\n",
        "folder_dir = \"/content/drive/MyDrive/Frames/video_4_full_box\"\n",
        "for images in os.listdir(folder_dir):\n",
        "    if (images.endswith(\".jpg\")):\n",
        "      project.upload(\n",
        "          image_path=\"/content/drive/MyDrive/Frames/video_4_full_box/\"+images,\n",
        "      )"
      ]
    }
  ],
  "metadata": {
    "colab": {
      "provenance": []
    },
    "kernelspec": {
      "display_name": "Python 3",
      "name": "python3"
    },
    "language_info": {
      "name": "python"
    }
  },
  "nbformat": 4,
  "nbformat_minor": 0
}

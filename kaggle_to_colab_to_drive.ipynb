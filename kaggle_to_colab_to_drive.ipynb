{
  "cells": [
    {
      "cell_type": "markdown",
      "metadata": {
        "id": "jJlMU65H9Pi5"
      },
      "source": [
        "**Connect Googl drive**"
      ]
    },
    {
      "cell_type": "code",
      "execution_count": null,
      "metadata": {
        "colab": {
          "base_uri": "https://localhost:8080/"
        },
        "id": "Ace3r7Bo9bwg",
        "outputId": "55a20f45-1ae8-42b9-cdcc-b7e00f1ee1ee"
      },
      "outputs": [],
      "source": [
        "from google.colab import drive\n",
        "drive.mount('/content/drive')"
      ]
    },
    {
      "cell_type": "markdown",
      "metadata": {
        "id": "14RhRfE89J_J"
      },
      "source": [
        "**Save model file**\n",
        "-O Model-l.zip"
      ]
    },
    {
      "cell_type": "code",
      "execution_count": null,
      "metadata": {
        "colab": {
          "base_uri": "https://localhost:8080/"
        },
        "id": "GeNU_s_K0V5y",
        "outputId": "be08555d-e9aa-4a84-be3a-46a5951c1434"
      },
      "outputs": [],
      "source": [
        "!wget https://kkb-production.jupyter-proxy.kaggle.net/k/178545988/eyJhbGciOiJkaXIiLCJlbmMiOiJBMTI4Q0JDLUhTMjU2IiwidHlwIjoiSldUIn0..3RBCnM2zTkyQ31WTMoLKwg.8aNdQ3A5pTV-G6yJIM66VlED0ouOxhxjPKXaAGH_Rea_J8mK2oTRIoo41pvp7nfuthdDxsQXFkRE9P_76NP_LmFygRilabbV8NTJkMJ369aNeLYFyedOSpZxod3A31O1ltU00jXO9MjpC0ahwYQSFxBY1qa0Jo52WWHVeUBDX9ptLmiteizh1ZY5Pu_Hf59w9Fs31yNKJjgIX59CSta3Mw.MO6OyffZHkSoDve2l0aHAA/proxy/files/video_f.zip -O Frames.zip"
      ]
    },
    {
      "cell_type": "code",
      "execution_count": null,
      "metadata": {
        "colab": {
          "base_uri": "https://localhost:8080/"
        },
        "id": "IY7wMD0E8agO",
        "outputId": "da9d85db-e832-421c-cd43-b3c1a781b037"
      },
      "outputs": [],
      "source": [
        "!unzip \"/content/Model-x.zip\" -d \"/content/drive/MyDrive/NewViedoFrames/Video_2/\""
      ]
    },
    {
      "cell_type": "markdown",
      "metadata": {
        "id": "ZiEJJrSi9f9T"
      },
      "source": [
        "**Save video file**"
      ]
    },
    {
      "cell_type": "code",
      "execution_count": null,
      "metadata": {
        "colab": {
          "base_uri": "https://localhost:8080/"
        },
        "id": "ekvNP2lWcEAg",
        "outputId": "c10964f2-de05-43da-99fd-8fd10fb2bc7e"
      },
      "outputs": [],
      "source": [
        "!wget https://kkb-production.jupyter-proxy.kaggle.net/static/dist/jupyterlab/files/output_video.mp4 -O train_out_video.mp4"
      ]
    },
    {
      "cell_type": "code",
      "execution_count": null,
      "metadata": {
        "id": "uo9k18bG9kYS"
      },
      "outputs": [],
      "source": [
        "!cp \"/content/train_out_video.mp4\" -d \"/content/drive/MyDrive/New Test Videos/Output\""
      ]
    }
  ],
  "metadata": {
    "colab": {
      "provenance": []
    },
    "kernelspec": {
      "display_name": "Python 3",
      "name": "python3"
    },
    "language_info": {
      "name": "python"
    }
  },
  "nbformat": 4,
  "nbformat_minor": 0
}
